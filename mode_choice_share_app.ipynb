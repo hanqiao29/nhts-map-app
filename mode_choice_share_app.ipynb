{
 "cells": [
  {
   "cell_type": "markdown",
   "metadata": {},
   "source": [
    "# Share of Trip Mode by State\n",
    "In this notebook, we have three main tasks: <br />\n",
    "1) Use the 2017 National Household Travel Survey to plot out the share of trips with different mode in each state <br/>\n",
    "2) Use API to download census data and map out some demographic and income information by state<br/>\n",
    "3) Create a webapp using Panel that allows user to select mode choice and demographic information with maps and a bar chart that can update themselves automatically."
   ]
  },
  {
   "cell_type": "code",
   "execution_count": null,
   "metadata": {},
   "outputs": [],
   "source": [
    "# Let's setup the imports we'll need first\n",
    "import numpy as np\n",
    "from matplotlib import pyplot as plt\n",
    "import pandas as pd\n",
    "import geopandas as gpd\n",
    "\n",
    "%matplotlib inline\n",
    "\n",
    "import hvplot.pandas\n",
    "import altair as alt\n",
    "\n",
    "import holoviews as hv\n",
    "from holoviews import opts\n",
    "hv.extension(\"bokeh\")\n",
    "\n",
    "from datashader.utils import lnglat_to_meters"
   ]
  },
  {
   "cell_type": "code",
   "execution_count": null,
   "metadata": {},
   "outputs": [],
   "source": [
    "from datashader.utils import lnglat_to_meters\n",
    "# Get USA xlim and ylim in meters (EPSG=3857)\n",
    "USA = ((-124.72,  -66.95), (23.55, 50.06))\n",
    "USA_xlim_meters, USA_ylim_meters = [list(r) for r in lnglat_to_meters(USA[0], USA[1])]"
   ]
  },
  {
   "cell_type": "code",
   "execution_count": null,
   "metadata": {},
   "outputs": [],
   "source": [
    "# Read in NHTS data\n",
    "# trip = pd.read_csv(\"./NHTS/Data/trippub.csv\")\n",
    "# person = pd.read_csv(\"./NHTS/Data/perpub.csv\")"
   ]
  },
  {
   "cell_type": "markdown",
   "metadata": {},
   "source": [
    "## Trip Mode Share Map\n",
    "Firstly, use the trip dataset, group by household state and by mode choice and add up the trip numbers taking weight into consideration.\n",
    "<br />\n",
    "Secondly, group by state, calculate the count of trips for each mode choice and total trips, and then calculate the share of trips with each mode choice. \n",
    "<br />\n",
    "Thirdly, add geometry feature to the trip information and plot with Hvplot groupby trip mode to obtain a dropdown bar."
   ]
  },
  {
   "cell_type": "code",
   "execution_count": null,
   "metadata": {},
   "outputs": [],
   "source": [
    "# group by state and mode choice\n",
    "# trip_state_mode = trip.groupby(['HHSTATE','TRPTRANS','HHSTFIPS'])['WTTRDFIN'].sum().reset_index()\n",
    "# trip_state_mode"
   ]
  },
  {
   "cell_type": "markdown",
   "metadata": {},
   "source": [
    "Our goal is to have a column for percentage of trips by each travel mode for each state. So we need to make some changes and calculations to the current dataset. We first calculate total number of trips in each state and then join the total number to the above dataframe which was grouped by state and by modes of transportation. So each row of observation will have the count of total trips in that state and the count of trips of a specific mode in that state."
   ]
  },
  {
   "cell_type": "code",
   "execution_count": null,
   "metadata": {},
   "outputs": [],
   "source": [
    "# # create a new df group by state to calculate total trips in a state\n",
    "# trip_state = trip.groupby(['HHSTATE','HHSTFIPS'])['WTTRDFIN'].sum().reset_index()\n",
    "# trip_state = trip_state.rename(columns={'WTTRDFIN': 'state_w'}) # rename columns to make more intuitive\n",
    "# trip_state_mode = trip_state_mode.rename(columns={'WTTRDFIN': 'state_mode_w'})\n",
    "\n",
    "# # merge df groupped by state&mode with df groupped by state\n",
    "# trip_state_mode = trip_state_mode.merge(trip_state[['HHSTATE','state_w']], left_on='HHSTATE', right_on='HHSTATE')\n",
    "# trip_state_mode['mode_share'] = trip_state_mode['state_mode_w']/trip_state_mode['state_w']\n",
    "# trip_state_mode"
   ]
  },
  {
   "cell_type": "markdown",
   "metadata": {},
   "source": [
    "We will not be considering mode choice -9,-8,-7 which are Not ascertained, I don't know and I prefer not to answer when making the final hvplot. So we will filter them out before moving into plotting steps."
   ]
  },
  {
   "cell_type": "code",
   "execution_count": null,
   "metadata": {},
   "outputs": [],
   "source": [
    "# a = [-9,-8,-7] \n",
    "# trip_state_mode= trip_state_mode[~trip_state_mode['TRPTRANS'].isin(a)] # filter out no answers\n",
    "# trip_state_mode"
   ]
  },
  {
   "cell_type": "markdown",
   "metadata": {},
   "source": [
    "Note that since not all travel mode choice appeared in each state. The above trip_state_mode dataframe does not contain all possible combination of state&mode pairs. Since if a state does not have a specific mode, the geometry will not appear in the map, we need to add these rows into the dataframe and specify the share and weight as 0."
   ]
  },
  {
   "cell_type": "code",
   "execution_count": null,
   "metadata": {},
   "outputs": [],
   "source": [
    "# # create empty dataframe for each state and trip mode and indicator of 0.\n",
    "# state_list = trip_state_mode['HHSTATE'].unique().tolist()\n",
    "# mode_list = trip_state_mode['TRPTRANS'].unique().tolist()\n",
    "\n",
    "# rows = []\n",
    "# for i in range(len(state_list)):\n",
    "#     for j in range(len(mode_list)):\n",
    "#         rows.append([state_list[i], mode_list[j], 0])\n",
    "# empty = pd.DataFrame(rows, columns=[\"state\", \"mode\", \"indicator\"])\n",
    "# empty"
   ]
  },
  {
   "cell_type": "code",
   "execution_count": null,
   "metadata": {},
   "outputs": [],
   "source": [
    "# # merge empty df with trip_state_mode_geo to get a dataframe with all possible combination of state and mode choice\n",
    "# trip_state_mode_all = trip_state_mode.merge(empty, left_on=['HHSTATE','TRPTRANS'], right_on=['state','mode'], \n",
    "#                                             how='right')\n",
    "# trip_state_mode_all"
   ]
  },
  {
   "cell_type": "markdown",
   "metadata": {},
   "source": [
    "Note that after this step, we have all possible state&mode pairs. The pairs that did not appear in the original trip dataframe will have NAs in the associated share column. So we need to fill in these values as 0."
   ]
  },
  {
   "cell_type": "code",
   "execution_count": null,
   "metadata": {},
   "outputs": [],
   "source": [
    "# # Fill in the NAs from the above dataframe\n",
    "# trip_state_mode_all['TRPTRANS'] = trip_state_mode_all['TRPTRANS'].fillna(trip_state_mode_geoall['mode'])\n",
    "# trip_state_mode_all['HHSTATE'] = trip_state_mode_all['HHSTATE'].fillna(trip_state_mode_geoall['state'])\n",
    "# trip_state_mode_all['mode_share'] = trip_state_mode_all['mode_share'].fillna(0)\n",
    "\n",
    "# trip_state_mode_all"
   ]
  },
  {
   "cell_type": "markdown",
   "metadata": {},
   "source": [
    "Now we have our trip data ready. We can get the geographical information and merge the geometries of each state with our curret trip_state_mode df. Note that here we explored one way of adding the state boundaries -- getting geojson file online. In the next section, we also tried getting geojson using cenpy API."
   ]
  },
  {
   "cell_type": "code",
   "execution_count": null,
   "metadata": {},
   "outputs": [],
   "source": [
    "# states= gpd.read_file(\"./NHTS/Data/gz_2010_us_040_00_500k.json\")"
   ]
  },
  {
   "cell_type": "code",
   "execution_count": null,
   "metadata": {},
   "outputs": [],
   "source": [
    "# # first plot out the geographical informaiton of US\n",
    "\n",
    "# fig, ax = plt.subplots(figsize=(60, 6))\n",
    "# ax = states.plot(ax=ax, facecolor='none', edgecolor='black')\n",
    "# ax.set_axis_off()"
   ]
  },
  {
   "cell_type": "code",
   "execution_count": null,
   "metadata": {},
   "outputs": [],
   "source": [
    "# states.head()"
   ]
  },
  {
   "cell_type": "code",
   "execution_count": null,
   "metadata": {},
   "outputs": [],
   "source": [
    "# # convert state code from object to integer to prepare for joining with Household Travel Survey data\n",
    "# states['STATE'] = states['STATE'].astype('int32')"
   ]
  },
  {
   "cell_type": "code",
   "execution_count": null,
   "metadata": {},
   "outputs": [],
   "source": [
    "# # merge states with trip_state_mode by state fips code\n",
    "# states = states.merge(trip_state_mode[['HHSTFIPS','HHSTATE']].drop_duplicates(),\n",
    "#                       left_on='STATE', right_on='HHSTFIPS', how='left')\n",
    "# states.head()"
   ]
  },
  {
   "cell_type": "code",
   "execution_count": null,
   "metadata": {},
   "outputs": [],
   "source": [
    "# trip_state_mode_geo = trip_state_mode_all.merge(states, left_on='state', right_on='HHSTATE', how='left')\n",
    "# trip_state_mode_geo.head()"
   ]
  },
  {
   "cell_type": "markdown",
   "metadata": {},
   "source": [
    "Now we have both datasets ready. We can use hvplot to make some interactive plots."
   ]
  },
  {
   "cell_type": "code",
   "execution_count": null,
   "metadata": {},
   "outputs": [],
   "source": [
    "# trip_state_mode_geo = gpd.GeoDataFrame(trip_state_mode_geo, geometry='geometry', crs=\"EPSG:4326\")"
   ]
  },
  {
   "cell_type": "code",
   "execution_count": null,
   "metadata": {},
   "outputs": [],
   "source": [
    "# # change some column names and value names to make plot more interpretatble\n",
    "# def label_mode (row):\n",
    "#     a = row['TRPTRANS']\n",
    "#     if a == 1 :return 'Walk'\n",
    "#     if a == 2 :return 'Bicycle'\n",
    "#     if a == 3 :return 'Car'\n",
    "#     if a == 4 :return 'SUV'\n",
    "#     if a == 5 :return 'Van'\n",
    "#     if a == 6 :return 'Pickup truck'\n",
    "#     if a == 7 :return 'Golf cart/Segway'\n",
    "#     if a == 8 :return 'Motorcycle/Moped'\n",
    "#     if a == 9 :return 'RV (motor home, ATV, snowmobile)'\n",
    "#     if a == 10 :return 'School bus'\n",
    "#     if a == 11 :return 'Public or commuter bus'\n",
    "#     if a == 12 :return 'Paratransit/Dial-a-ride'\n",
    "#     if a == 13 :return 'Private/Charter/Tour/Shuttle bus'\n",
    "#     if a == 14 :return 'City-to-city bus (Greyhound, Megabus)'\n",
    "#     if a == 15 :return 'Amtrak/Commuter rail'\n",
    "#     if a == 16 :return 'Subway/elevated/light rail/street car'\n",
    "#     if a == 17 :return 'Taxi/limo (Uber/Lyft)'\n",
    "#     if a == 18 :return 'Rental car'\n",
    "#     if a == 19 :return 'Airplane'\n",
    "#     if a == 20 :return 'Boat/ferry/water taxi'\n",
    "#     if a == 97 :return 'Something Else'\n",
    "\n",
    "# trip_state_mode_geo['Trip Mode'] = trip_state_mode_geo.apply (lambda row: label_mode(row), axis=1)\n",
    "# trip_state_mode_geo.head()"
   ]
  },
  {
   "cell_type": "code",
   "execution_count": null,
   "metadata": {},
   "outputs": [],
   "source": [
    "# # We experienced some difficulties setting boundaries for the hvplot below using crs=4326, \n",
    "# # so we converted it to 3857 here. Not sure what's the problem with 4326.\n",
    "\n",
    "# trip_state_mode_geo = trip_state_mode_geo.to_crs(epsg=3857)\n",
    "# trip_state_mode_geo.crs"
   ]
  },
  {
   "cell_type": "code",
   "execution_count": null,
   "metadata": {},
   "outputs": [],
   "source": [
    "# from datashader.utils import lnglat_to_meters\n",
    "# # Get USA xlim and ylim in meters (EPSG=3857)\n",
    "# USA = ((-124.72,  -66.95), (23.55, 50.06))\n",
    "# USA_xlim_meters, USA_ylim_meters = [list(r) for r in lnglat_to_meters(USA[0], USA[1])]\n",
    "\n",
    "# mode_map = trip_state_mode_geo.hvplot.polygons(c='mode_share', \n",
    "#                                                frame_width=400, \n",
    "#                                                frame_height=300, \n",
    "#                                                groupby=\"Trip Mode\",\n",
    "#                                                geo=True, \n",
    "#                                                cmap='RdPu', \n",
    "#                                                crs=3857,\n",
    "#                                                hover_cols=['state'],\n",
    "#                                                xlim = USA_xlim_meters, #add boundaries to make map centered on the U\n",
    "#                                                ylim = USA_ylim_meters,\n",
    "#                                               )\n",
    "# mode_map"
   ]
  },
  {
   "cell_type": "code",
   "execution_count": null,
   "metadata": {},
   "outputs": [],
   "source": [
    "# trip the dataset to a smaller size so we can deploy the app\n",
    "# modes = [3,1,7,16]\n",
    "# trip_trim = trip_state_mode_geo[trip_state_mode_geo['mode'].isin(modes)]\n",
    "# trip_trim.to_csv('trip_trim.csv', index=False)  "
   ]
  },
  {
   "cell_type": "markdown",
   "metadata": {},
   "source": [
    "## Census Information Map\n",
    "We want to pair the above trip mode map along with some demographic information including income, racial and demographic information. So that our user can compare them side by side. Here we will use the 2018 ACS 5 year estimates to match our trip data."
   ]
  },
  {
   "cell_type": "code",
   "execution_count": null,
   "metadata": {},
   "outputs": [],
   "source": [
    "import cenpy"
   ]
  },
  {
   "cell_type": "code",
   "execution_count": null,
   "metadata": {},
   "outputs": [],
   "source": [
    "available = cenpy.explorer.available() # explore available datasets\n",
    "cenpy.explorer.explain(\"ACSDT5Y2018\")"
   ]
  },
  {
   "cell_type": "code",
   "execution_count": null,
   "metadata": {},
   "outputs": [],
   "source": [
    "acs = cenpy.remote.APIConnection(\"ACSDT5Y2018\")"
   ]
  },
  {
   "cell_type": "code",
   "execution_count": null,
   "metadata": {},
   "outputs": [],
   "source": [
    "pd.set_option('display.max_colwidth', 80)\n",
    "df = acs.varslike(\"RACE\", by='concept').sort_index() "
   ]
  },
  {
   "cell_type": "code",
   "execution_count": null,
   "metadata": {},
   "outputs": [],
   "source": [
    "# After exploring the various tables, we decided to use the following ones\n",
    "\n",
    "variables = [\n",
    "    \"NAME\",\n",
    "    \"B21004_001E\", #total median income\n",
    "    \"B17020_001E\", #poverty total\n",
    "    \"B02001_001E\", #total population\n",
    "    \"B02001_002E\", #white alone\n",
    "    \"B02001_003E\", #black or african americna alone\n",
    "    \"B02001_004E\", #American Indian and Alaska Native alone\n",
    "    \"B02001_005E\", #Asian alone\n",
    "    \"B15003_017E\", #high school diploma\n",
    "    \"B15003_022E\" #bachelor's degree\n",
    "]"
   ]
  },
  {
   "cell_type": "code",
   "execution_count": null,
   "metadata": {},
   "outputs": [],
   "source": [
    "state_acs = acs.query(\n",
    "    cols=variables,\n",
    "    geo_unit=\"state:*\",\n",
    ")\n",
    "\n",
    "state_acs.head()"
   ]
  },
  {
   "cell_type": "code",
   "execution_count": null,
   "metadata": {},
   "outputs": [],
   "source": [
    "# change column names so it can be more interpretable\n",
    "state_acs.columns = [\"NAME\", \"Median Income\", \"Poverty Population\",\"Total Population\",\n",
    "    \"White Population\", \"Black or African Americna Population\", \"American Indian and Alaska Native population\",\n",
    "    \"Asian Population\", \"Population with High School Diploma\", \"Population with Bachelor's Degree\", \"state\"]\n",
    "state_acs.head()"
   ]
  },
  {
   "cell_type": "markdown",
   "metadata": {},
   "source": [
    "Since hvplot allows a dropdown menu when we group values in one column, we need to melt the above dataframe from wide to long to allow users to select based on a drop down menu."
   ]
  },
  {
   "cell_type": "code",
   "execution_count": null,
   "metadata": {},
   "outputs": [],
   "source": [
    "# use melt function to turn the wide dataframe to a long dataframe\n",
    "state_acs_long = pd.melt(state_acs, id_vars=['NAME','state'])\n",
    "state_acs_long"
   ]
  },
  {
   "cell_type": "markdown",
   "metadata": {},
   "source": [
    "From the above section, we got the geoboundaries from a geojson file downloaded online. Here, let's try out a new way and use Cenpy to look up for geographies."
   ]
  },
  {
   "cell_type": "code",
   "execution_count": null,
   "metadata": {},
   "outputs": [],
   "source": [
    "cenpy.tiger.available()"
   ]
  },
  {
   "cell_type": "code",
   "execution_count": null,
   "metadata": {},
   "outputs": [],
   "source": [
    "acs.set_mapservice(\"tigerWMS_ACS2018\")"
   ]
  },
  {
   "cell_type": "code",
   "execution_count": null,
   "metadata": {},
   "outputs": [],
   "source": [
    "acs.mapservice.layers"
   ]
  },
  {
   "cell_type": "code",
   "execution_count": null,
   "metadata": {},
   "outputs": [],
   "source": [
    "acs.mapservice.layers[84]"
   ]
  },
  {
   "cell_type": "code",
   "execution_count": null,
   "metadata": {},
   "outputs": [],
   "source": [
    "# get boundaries by state\n",
    "states_map = acs.mapservice.layers[84].query(where=\"1=1\")"
   ]
  },
  {
   "cell_type": "code",
   "execution_count": null,
   "metadata": {},
   "outputs": [],
   "source": [
    "states_map.head()"
   ]
  },
  {
   "cell_type": "code",
   "execution_count": null,
   "metadata": {},
   "outputs": [],
   "source": [
    "states_map.plot()"
   ]
  },
  {
   "cell_type": "markdown",
   "metadata": {},
   "source": [
    "Now we can merge the geographic informaiton with the demographic information."
   ]
  },
  {
   "cell_type": "code",
   "execution_count": null,
   "metadata": {},
   "outputs": [],
   "source": [
    "# merge state_acs and states_map based on state and STATE\n",
    "state_acs_geo = state_acs_long.merge(states_map[['GEOID', 'STATE','geometry']], \n",
    "                                     left_on=\"state\", right_on=\"STATE\", how='left')\n",
    "state_acs_geo =  gpd.GeoDataFrame(state_acs_geo, geometry='geometry', crs=\"EPSG:3857\")\n",
    "state_acs_geo[\"value\"] = pd.to_numeric(state_acs_geo[\"value\"])\n",
    "state_acs_geo"
   ]
  },
  {
   "cell_type": "markdown",
   "metadata": {},
   "source": [
    "Now our dataframe is ready to be plotted! We then use Hvplot to make a map that allows users to select which demographic variable to show on a map."
   ]
  },
  {
   "cell_type": "code",
   "execution_count": null,
   "metadata": {},
   "outputs": [],
   "source": [
    "# Get USA xlim and ylim in meters (EPSG=3857)\n",
    "USA = ((-124.72,  -66.95), (23.55, 50.06))\n",
    "USA_xlim_meters, USA_ylim_meters = [list(r) for r in lnglat_to_meters(USA[0], USA[1])]\n",
    "\n",
    "acs_map = state_acs_geo.hvplot(c='value', \n",
    "                               frame_width=400, \n",
    "                               frame_height=300, \n",
    "                               groupby=\"variable\",\n",
    "                               geo=True,\n",
    "                               crs=3857,\n",
    "                               cmap='PuBu', \n",
    "                               hover_cols=['NAME'],\n",
    "                               xlim=USA_xlim_meters, # Specify the xbounds in meters (EPSG=3857)\n",
    "                               ylim=USA_ylim_meters\n",
    "                              )\n",
    "acs_map"
   ]
  },
  {
   "cell_type": "code",
   "execution_count": null,
   "metadata": {},
   "outputs": [],
   "source": [
    "# mode_map+acs_map"
   ]
  },
  {
   "cell_type": "markdown",
   "metadata": {},
   "source": [
    "## Build a webapp with Panel"
   ]
  },
  {
   "cell_type": "markdown",
   "metadata": {},
   "source": [
    "We have our maps ready! Now we use Panel to create a dashboard for user to interact with. Furthermore, in the dashboard, we add in another altair bar chart to show the count of trips by the selected mode in each state."
   ]
  },
  {
   "cell_type": "code",
   "execution_count": null,
   "metadata": {},
   "outputs": [],
   "source": [
    "import panel as pn\n",
    "pn.extension('vega') # This ensures altair works in the notebook!\n",
    "import param as pm\n",
    "from colorcet import cm"
   ]
  },
  {
   "cell_type": "code",
   "execution_count": null,
   "metadata": {},
   "outputs": [],
   "source": [
    "# Add custom JS for altair here AFTER imports\n",
    "# This ensures altair works when deploying on binder!\n",
    "pn.extension(\n",
    "    js_files={\n",
    "        \"vega\": \"https://cdn.jsdelivr.net/npm/vega@5/build/vega.min.js\",\n",
    "        \"vegaLite\": \"https://cdn.jsdelivr.net/npm/vega-lite@4/build/vega-lite.min.js\",\n",
    "        \"vegaEmbed\": \"https://cdn.jsdelivr.net/npm/vega-embed@6/build/vega-embed.min.js\",\n",
    "    }\n",
    ")"
   ]
  },
  {
   "cell_type": "code",
   "execution_count": null,
   "metadata": {
    "scrolled": false
   },
   "outputs": [],
   "source": [
    "# Read in trimmed trip dataset\n",
    "trip_state_mode_geo = gpd.read_file(\"./NHTS/Data/trip_trim.geojson\")\n",
    "trip_state_mode_geo.crs\n"
   ]
  },
  {
   "cell_type": "code",
   "execution_count": null,
   "metadata": {},
   "outputs": [],
   "source": [
    "# The modes and demographic information users can choose from\n",
    "mode_choice = trip_state_mode_geo['Trip Mode'].unique().tolist()\n",
    "acs_choice = state_acs_geo[\"variable\"].unique().tolist()"
   ]
  },
  {
   "cell_type": "code",
   "execution_count": null,
   "metadata": {},
   "outputs": [],
   "source": [
    "\n",
    "# state_acs_geo.to_csv(\"state_acs.csv\", index=False) "
   ]
  },
  {
   "cell_type": "markdown",
   "metadata": {},
   "source": [
    "The app has 4 components: 1) parameters and widgets, 2)map for demographic informaiton 3) map for trip mode information 4) bar chart for count of trips"
   ]
  },
  {
   "cell_type": "code",
   "execution_count": null,
   "metadata": {},
   "outputs": [],
   "source": [
    "class TripMapApp(pm.Parameterized):\n",
    "    \"\"\"\n",
    "    A Panel-based dashboard app visualizing data for NHTS trip mode \n",
    "    and ACS demographic informaiton.\n",
    "\n",
    "    The app has three main components:\n",
    "        1. A set of widgets controlling the data plotted on the two maps\n",
    "        2. A map for demographic informatrion from ACS  \n",
    "        3. A map for trip mode information from NHTS\n",
    "        \n",
    "    \"\"\"\n",
    "    #trip mode choice widget\n",
    "    mode = pm.ObjectSelector(default=\"Walk\", objects=mode_choice)\n",
    "    #demographic widget\n",
    "    demographic = pm.ObjectSelector(default=\"Median Income\", objects=acs_choice)\n",
    "    \n",
    "    def filter_by_demo(self):\n",
    "        demo_subset = state_acs_geo[state_acs_geo['variable']==self.demographic]\n",
    "        return demo_subset\n",
    "    \n",
    "    def filter_by_mode(self):\n",
    "        mode_subset = trip_state_mode_geo[trip_state_mode_geo['Trip Mode']==self.mode]\n",
    "        return mode_subset\n",
    "\n",
    "    #acs hvplot\n",
    "    @pm.depends(\"demographic\")\n",
    "    def acsplot(self):\n",
    "        \"\"\"\n",
    "        Return an hvplot for demographic information.\n",
    "        \"\"\"\n",
    "        # get the filtered data\n",
    "        acs_data = self.filter_by_demo()\n",
    "\n",
    "        return acs_data.hvplot(c='value', \n",
    "                           frame_width=400, \n",
    "                           frame_height=300, \n",
    "                           geo=True,\n",
    "                           crs=3857,\n",
    "                           cmap='PuBu', \n",
    "                           hover_cols=['NAME'],\n",
    "                           xlim=USA_xlim_meters, # Specify the xbounds in meters (EPSG=3857)\n",
    "                           ylim=USA_ylim_meters\n",
    "        ).opts(title=\"Demographic Information by State\")\n",
    "    \n",
    "    #mode choice hvplot\n",
    "    @pm.depends(\"mode\")\n",
    "    def modeplot(self):\n",
    "        \"\"\"\n",
    "        Return an hvplot for demographic information.\n",
    "        \"\"\"\n",
    "        # get the filtered data\n",
    "        trip_data = self.filter_by_mode()\n",
    "\n",
    "        return trip_data.hvplot.polygons(c='mode_share', \n",
    "                                    frame_width=400, \n",
    "                                    frame_height=300, \n",
    "                                    geo=True, \n",
    "                                    cmap='RdPu', \n",
    "                                    crs=3857,\n",
    "                                    hover_cols=['state'],\n",
    "                                    xlim = USA_xlim_meters, #add boundaries to make map centered on the U\n",
    "                                    ylim = USA_ylim_meters,\n",
    "                                   ).opts(title=\"Mode Share by State\")\n",
    "    @pm.depends(\"mode\")\n",
    "    def bar_chart(self):\n",
    "        \"\"\"\n",
    "        Return an altair histogram of the number of trips using the selected mode choice.\n",
    "        \"\"\"\n",
    "         # get the filtered data\n",
    "        trip_data = self.filter_by_mode()\n",
    "\n",
    "        # create the chart\n",
    "        chart = (\n",
    "            alt.Chart(trip_data[[\"state_mode_w\", \"state\"]])\n",
    "            .mark_bar()\n",
    "            .encode(\n",
    "                x=alt.X(\"state_mode_w\",title='Count of trips'),\n",
    "                y=alt.Y(\n",
    "                    \"state:N\",title='State',\n",
    "                    sort=alt.EncodingSortField(\n",
    "                        field=\"state_mode_w\",  # The field to use for the sort\n",
    "                        order=\"descending\",  # The order to sort in\n",
    "                    ),\n",
    "                ),\n",
    "                tooltip=[\"state_mode_w\", \"state\"],\n",
    "            )\n",
    "            .properties(width=300, height=500, title=\"Count of trips using the selected mode\")\n",
    "        )\n",
    "        return chart\n",
    "\n",
    "#add title for plots\n",
    "#add total trips of the current mode is sum(state_mode_w)"
   ]
  },
  {
   "cell_type": "code",
   "execution_count": null,
   "metadata": {},
   "outputs": [],
   "source": [
    "app = TripMapApp(name=\"\")"
   ]
  },
  {
   "cell_type": "code",
   "execution_count": null,
   "metadata": {},
   "outputs": [],
   "source": [
    "title = pn.Pane(\"<h1>Trip Mode and Demographics Distribution Maps</h1>\", width=1000)"
   ]
  },
  {
   "cell_type": "code",
   "execution_count": null,
   "metadata": {},
   "outputs": [],
   "source": [
    "# Layout the dashboard\n",
    "panel = pn.Column(\n",
    "    pn.Row(title),\n",
    "    pn.Row(pn.Param(app.param, width=300)),\n",
    "    pn.Row(app.modeplot,app.bar_chart),\n",
    "    pn.Row(app.acsplot),\n",
    ")"
   ]
  },
  {
   "cell_type": "code",
   "execution_count": null,
   "metadata": {},
   "outputs": [],
   "source": [
    "panel.servable()"
   ]
  },
  {
   "cell_type": "markdown",
   "metadata": {},
   "source": [
    "The code below provides me two toy examples that can be put on static github pages."
   ]
  },
  {
   "cell_type": "code",
   "execution_count": null,
   "metadata": {},
   "outputs": [],
   "source": [
    "# toy static example for github pages\n",
    "\n",
    "demo_toy = state_acs_geo[state_acs_geo['variable']=='Median Income']\n",
    "mode_toy = trip_state_mode_geo[trip_state_mode_geo['Trip Mode']=='Walk']\n",
    "\n",
    "trip_toy = mode_toy.hvplot.polygons(c='mode_share', \n",
    "                                    frame_width=400, \n",
    "                                    frame_height=300, \n",
    "                                    geo=True, \n",
    "                                    cmap='RdPu', \n",
    "                                    crs=3857,\n",
    "                                    hover_cols=['state'],\n",
    "                                    xlim = USA_xlim_meters, #add boundaries to make map centered on the U\n",
    "                                    ylim = USA_ylim_meters,\n",
    "                                   )\n",
    "\n",
    "acs_toy = demo_toy.hvplot(c='value', \n",
    "                           frame_width=400, \n",
    "                           frame_height=300, \n",
    "                           geo=True,\n",
    "                           crs=3857,\n",
    "                           cmap='PuBu', \n",
    "                           hover_cols=['NAME'],\n",
    "                           xlim=USA_xlim_meters, # Specify the xbounds in meters (EPSG=3857)\n",
    "                           ylim=USA_ylim_meters\n",
    "        )\n"
   ]
  },
  {
   "cell_type": "code",
   "execution_count": null,
   "metadata": {},
   "outputs": [],
   "source": [
    "trip_toy.opts(title=\"Mode Share by State: Walk\")"
   ]
  },
  {
   "cell_type": "code",
   "execution_count": null,
   "metadata": {},
   "outputs": [],
   "source": [
    "acs_toy.opts(title=\"Demographic Information by State: Median Income\")"
   ]
  },
  {
   "cell_type": "code",
   "execution_count": null,
   "metadata": {},
   "outputs": [],
   "source": [
    "hvplot.save(acs_toy, 'acsHvplot.html')\n",
    "hvplot.save(trip_toy, 'modeHvplot.html')"
   ]
  }
 ],
 "metadata": {
  "kernelspec": {
   "display_name": "Python 3",
   "language": "python",
   "name": "python3"
  },
  "language_info": {
   "codemirror_mode": {
    "name": "ipython",
    "version": 3
   },
   "file_extension": ".py",
   "mimetype": "text/x-python",
   "name": "python",
   "nbconvert_exporter": "python",
   "pygments_lexer": "ipython3",
   "version": "3.7.8"
  }
 },
 "nbformat": 4,
 "nbformat_minor": 4
}
